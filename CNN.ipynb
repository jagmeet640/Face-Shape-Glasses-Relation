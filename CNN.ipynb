{
 "cells": [
  {
   "cell_type": "code",
   "execution_count": 1,
   "id": "f0537095",
   "metadata": {},
   "outputs": [],
   "source": [
    "import tensorflow as tf\n",
    "import pandas as pd\n",
    "import matplotlib.pyplot as plt\n",
    "from tensorflow import keras\n",
    "from keras.models import Sequential\n",
    "from keras.layers import Dense, Conv2D, Dropout\n",
    "import sklearn\n",
    "from sklearn.model_selection import train_test_split\n",
    "import os\n",
    "from os import listdir\n",
    "from zipfile import ZipFile\n",
    "import pickle\n",
    "import cv2\n",
    "import gdown\n",
    "import tensorflow\n",
    "from tensorflow.keras.utils import img_to_array\n",
    "import sklearn \n",
    "from sklearn.preprocessing import LabelBinarizer\n",
    "import numpy as np\n"
   ]
  },
  {
   "cell_type": "code",
   "execution_count": 2,
   "id": "fa497ca8",
   "metadata": {},
   "outputs": [],
   "source": [
    "# %pip install opencv-python\n",
    "# %pip install gdown"
   ]
  },
  {
   "cell_type": "code",
   "execution_count": 3,
   "id": "8025138d",
   "metadata": {},
   "outputs": [],
   "source": [
    "def convert_image_to_array(image_dir):\n",
    "    try:\n",
    "        image = cv2.imread(image_dir)\n",
    "        if image is not None:\n",
    "            img = cv2.resize(image, (32,32))\n",
    "            return img_to_array(img)\n",
    "        else:\n",
    "            return np.array([])\n",
    "    except Exception as e:\n",
    "        print(f\"Error : {e}\")\n",
    "        return None"
   ]
  },
  {
   "cell_type": "code",
   "execution_count": 4,
   "id": "b08abeb2",
   "metadata": {},
   "outputs": [],
   "source": [
    "def load_dataset(dir):\n",
    "    ImgList, label_list = [], []\n",
    "    try:\n",
    "            print(\"Load Dataset -->\")\n",
    "            root_dir = listdir(dir)\n",
    "            print(\"Root Directory : \", root_dir)\n",
    "            for shape in root_dir:\n",
    "                if shape == \".DS_Store\":\n",
    "                    root_dir.remove(dir)\n",
    "            \n",
    "            for shape in root_dir:\n",
    "                faceShape_image_list = listdir(f\"{dir}/{shape}\")\n",
    "                \n",
    "                for faceShape in faceShape_image_list:\n",
    "                    \n",
    "                    if faceShape == \".DS_Store\":\n",
    "                        faceShape_image_lsit.remove(faceShape)\n",
    "                        \n",
    "                for faceShape_image in faceShape_image_list[:7000]:\n",
    "                    \n",
    "                    img_dir = f\"{dir}/{shape}/{faceShape_image}\"\n",
    "                    \n",
    "                    if img_dir.endswith(\".jpg\") == True or img_dir.endswith(\".JPG\") == True or img_dir.endswith(\".png\") == True or img_dir.endswith(\".PNG\") == True:\n",
    "                        \n",
    "                        converted_image = convert_image_to_array(img_dir)\n",
    "                        ImgList.append(converted_image)\n",
    "                        label_list.append(shape)\n",
    "            print(\"Loading completed\")\n",
    "            return ImgList, label_list\n",
    "    except Exception as e:\n",
    "        print(f\"Error : {e}\")\n",
    "        "
   ]
  },
  {
   "cell_type": "code",
   "execution_count": 5,
   "id": "a891310e",
   "metadata": {
    "scrolled": true
   },
   "outputs": [
    {
     "name": "stdout",
     "output_type": "stream",
     "text": [
      "Load Dataset -->\n",
      "Root Directory :  ['heart', 'oblong', 'oval', 'round', 'square']\n",
      "Loading completed\n"
     ]
    }
   ],
   "source": [
    "images, labels = load_dataset(\"faceshape-master/published_dataset\")"
   ]
  },
  {
   "cell_type": "code",
   "execution_count": 8,
   "id": "ccbe4532",
   "metadata": {},
   "outputs": [
    {
     "name": "stdout",
     "output_type": "stream",
     "text": [
      "500\n",
      "(32, 32, 3)\n"
     ]
    }
   ],
   "source": [
    "print(len(images))\n",
    "print(images[0].shape)"
   ]
  },
  {
   "cell_type": "code",
   "execution_count": 9,
   "id": "f975b8ab",
   "metadata": {},
   "outputs": [
    {
     "name": "stdout",
     "output_type": "stream",
     "text": [
      "5\n",
      "[[1 0 0 0 0]\n",
      " [1 0 0 0 0]\n",
      " [1 0 0 0 0]\n",
      " ...\n",
      " [0 0 0 0 1]\n",
      " [0 0 0 0 1]\n",
      " [0 0 0 0 1]]\n"
     ]
    }
   ],
   "source": [
    "label_gen = LabelBinarizer()\n",
    "image_labels = label_gen.fit_transform(labels)\n",
    "pickle.dump(label_gen,open('label_transform.pkl', 'wb'))\n",
    "n_classes = len(label_gen.classes_)\n",
    "print(n_classes)\n",
    "print(image_labels)"
   ]
  },
  {
   "cell_type": "code",
   "execution_count": 10,
   "id": "8cc9bb10",
   "metadata": {},
   "outputs": [],
   "source": [
    "normalised_images = np.array(images, dtype=np.float16) /255.0"
   ]
  },
  {
   "cell_type": "code",
   "execution_count": 11,
   "id": "bec95c16",
   "metadata": {},
   "outputs": [
    {
     "name": "stdout",
     "output_type": "stream",
     "text": [
      "making the training and testing split with 30% of the dataset as testing set\n",
      "(350, 32, 32, 3)\n"
     ]
    }
   ],
   "source": [
    "from sklearn.model_selection import train_test_split\n",
    "print(\"making the training and testing split with 30% of the dataset as testing set\")\n",
    "# GAN_x_train, GAN_x_test, GAN_y_train, GAN_y_test = train_test_split(normalized_image_list_GAN, image_labels_GAN, test_size=0.3, shuffle=True,random_state = 42)\n",
    "\n",
    "orignal_x_train, orignal_x_test, orignal_y_train, orignal_y_test = train_test_split(normalised_images, image_labels, test_size=0.3, shuffle=True,random_state = 42)\n",
    "print(orignal_x_train.shape)"
   ]
  },
  {
   "cell_type": "code",
   "execution_count": 14,
   "id": "72cf6e1e",
   "metadata": {},
   "outputs": [
    {
     "name": "stdout",
     "output_type": "stream",
     "text": [
      "Model: \"sequential_1\"\n",
      "_________________________________________________________________\n",
      " Layer (type)                Output Shape              Param #   \n",
      "=================================================================\n",
      " conv2d_2 (Conv2D)           (None, 30, 30, 32)        896       \n",
      "                                                                 \n",
      " max_pooling2d_2 (MaxPoolin  (None, 15, 15, 32)        0         \n",
      " g2D)                                                            \n",
      "                                                                 \n",
      " conv2d_3 (Conv2D)           (None, 13, 13, 64)        18496     \n",
      "                                                                 \n",
      " max_pooling2d_3 (MaxPoolin  (None, 6, 6, 64)          0         \n",
      " g2D)                                                            \n",
      "                                                                 \n",
      " flatten_1 (Flatten)         (None, 2304)              0         \n",
      "                                                                 \n",
      " dense_2 (Dense)             (None, 128)               295040    \n",
      "                                                                 \n",
      " dense_3 (Dense)             (None, 5)                 645       \n",
      "                                                                 \n",
      "=================================================================\n",
      "Total params: 315077 (1.20 MB)\n",
      "Trainable params: 315077 (1.20 MB)\n",
      "Non-trainable params: 0 (0.00 Byte)\n",
      "_________________________________________________________________\n"
     ]
    }
   ],
   "source": [
    "import tensorflow\n",
    "from tensorflow.keras.layers import Conv2D, Dense, MaxPooling2D, Flatten\n",
    "# Define the input shape of the images\n",
    "input_shape = (32, 32, 3)\n",
    "\n",
    "# Initialize the model\n",
    "model = Sequential()\n",
    "\n",
    "# Add the first convolutional layer\n",
    "model.add(Conv2D(32, kernel_size=(3, 3), activation='relu', input_shape=input_shape))\n",
    "\n",
    "# Add the max pooling layer\n",
    "model.add(MaxPooling2D(pool_size=(2, 2)))\n",
    "\n",
    "# Add the second convolutional layer\n",
    "model.add(Conv2D(64, kernel_size=(3, 3), activation='relu'))\n",
    "\n",
    "# Add the max pooling layer\n",
    "model.add(MaxPooling2D(pool_size=(2, 2)))\n",
    "\n",
    "# Add the flatten layer\n",
    "model.add(Flatten())\n",
    "\n",
    "# Add the dense layer\n",
    "model.add(Dense(128, activation='relu'))\n",
    "\n",
    "# Add the output layer\n",
    "model.add(Dense(5, activation='sigmoid'))\n",
    "\n",
    "# Compile the model\n",
    "model.compile(loss='binary_crossentropy', optimizer='adam', metrics=['accuracy'])\n",
    "\n",
    "# Print the summary of the model architecture\n",
    "model.summary()\n",
    "\n",
    "\n",
    "\n"
   ]
  },
  {
   "cell_type": "code",
   "execution_count": 15,
   "id": "fa142abd",
   "metadata": {},
   "outputs": [
    {
     "name": "stdout",
     "output_type": "stream",
     "text": [
      "Epoch 1/25\n"
     ]
    },
    {
     "name": "stdout",
     "output_type": "stream",
     "text": [
      "22/22 [==============================] - 1s 15ms/step - loss: 0.5267 - accuracy: 0.2314\n",
      "Epoch 2/25\n",
      "22/22 [==============================] - 0s 14ms/step - loss: 0.5058 - accuracy: 0.2257\n",
      "Epoch 3/25\n",
      "22/22 [==============================] - 0s 14ms/step - loss: 0.4862 - accuracy: 0.3886\n",
      "Epoch 4/25\n",
      "22/22 [==============================] - 0s 14ms/step - loss: 0.4712 - accuracy: 0.3743\n",
      "Epoch 5/25\n",
      "22/22 [==============================] - 0s 14ms/step - loss: 0.4594 - accuracy: 0.4086\n",
      "Epoch 6/25\n",
      "22/22 [==============================] - 0s 14ms/step - loss: 0.4357 - accuracy: 0.4514\n",
      "Epoch 7/25\n",
      "22/22 [==============================] - 0s 13ms/step - loss: 0.4207 - accuracy: 0.4714\n",
      "Epoch 8/25\n",
      "22/22 [==============================] - 0s 14ms/step - loss: 0.4162 - accuracy: 0.4771\n",
      "Epoch 9/25\n",
      "22/22 [==============================] - 0s 14ms/step - loss: 0.3895 - accuracy: 0.5143\n",
      "Epoch 10/25\n",
      "22/22 [==============================] - 0s 14ms/step - loss: 0.3733 - accuracy: 0.5629\n",
      "Epoch 11/25\n",
      "22/22 [==============================] - 0s 14ms/step - loss: 0.3394 - accuracy: 0.6571\n",
      "Epoch 12/25\n",
      "22/22 [==============================] - 0s 14ms/step - loss: 0.3083 - accuracy: 0.6857\n",
      "Epoch 13/25\n",
      "22/22 [==============================] - 0s 13ms/step - loss: 0.2833 - accuracy: 0.7429\n",
      "Epoch 14/25\n",
      "22/22 [==============================] - 0s 16ms/step - loss: 0.2530 - accuracy: 0.7943\n",
      "Epoch 15/25\n",
      "22/22 [==============================] - 0s 14ms/step - loss: 0.2295 - accuracy: 0.8000\n",
      "Epoch 16/25\n",
      "22/22 [==============================] - 0s 14ms/step - loss: 0.1963 - accuracy: 0.8457\n",
      "Epoch 17/25\n",
      "22/22 [==============================] - 0s 14ms/step - loss: 0.1746 - accuracy: 0.9086\n",
      "Epoch 18/25\n",
      "22/22 [==============================] - 0s 14ms/step - loss: 0.1318 - accuracy: 0.9429\n",
      "Epoch 19/25\n",
      "22/22 [==============================] - 0s 15ms/step - loss: 0.1127 - accuracy: 0.9657\n",
      "Epoch 20/25\n",
      "22/22 [==============================] - 0s 16ms/step - loss: 0.0807 - accuracy: 0.9771\n",
      "Epoch 21/25\n",
      "22/22 [==============================] - 0s 16ms/step - loss: 0.0654 - accuracy: 0.9886\n",
      "Epoch 22/25\n",
      "22/22 [==============================] - 0s 17ms/step - loss: 0.0515 - accuracy: 0.9971\n",
      "Epoch 23/25\n",
      "22/22 [==============================] - 0s 16ms/step - loss: 0.0440 - accuracy: 0.9971\n",
      "Epoch 24/25\n",
      "22/22 [==============================] - 0s 18ms/step - loss: 0.0347 - accuracy: 0.9943\n",
      "Epoch 25/25\n",
      "22/22 [==============================] - 0s 16ms/step - loss: 0.0220 - accuracy: 0.9971\n"
     ]
    },
    {
     "data": {
      "text/plain": [
       "<keras.src.callbacks.History at 0x240e1741d30>"
      ]
     },
     "execution_count": 15,
     "metadata": {},
     "output_type": "execute_result"
    }
   ],
   "source": [
    "# Train the model\n",
    "model.fit(orignal_x_train, orignal_y_train, epochs=25, batch_size=16)\n"
   ]
  },
  {
   "cell_type": "code",
   "execution_count": 16,
   "id": "9240179d",
   "metadata": {},
   "outputs": [
    {
     "name": "stdout",
     "output_type": "stream",
     "text": [
      "5/5 [==============================] - 0s 6ms/step\n",
      "Accuracy: 24.0\n",
      "Precision: 42.79842706313294\n",
      "Recall: 27.451720789729205\n",
      "F1-score: 30.86177335180844\n"
     ]
    }
   ],
   "source": [
    "from sklearn.metrics import mean_squared_error\n",
    "from sklearn.metrics import accuracy_score, precision_score, recall_score, f1_score\n",
    "from sklearn.metrics import confusion_matrix\n",
    "\n",
    "y_pred = model.predict(orignal_x_test)\n",
    "\n",
    "y_pred_binary = np.where(y_pred > 0.5, 1, 0)\n",
    "# y_pred_classes = np.argmax(y_pred, axis=1)\n",
    "\n",
    "# Calculate the true labels for the test set\n",
    "y_true = orignal_y_test\n",
    "\n",
    "accuracy = accuracy_score(orignal_y_test, y_pred_binary)\n",
    "precision = precision_score(orignal_y_test, y_pred_binary, average='macro')\n",
    "recall = recall_score(orignal_y_test, y_pred_binary, average='macro')\n",
    "f1 = f1_score(orignal_y_test, y_pred_binary, average='macro')\n",
    "# conf_matrix = confusion_matrix(y_test, y_pred_binary)\n",
    "\n",
    "\n",
    "print(\"Accuracy:\", accuracy * 100)\n",
    "print(\"Precision:\", precision * 100)\n",
    "print(\"Recall:\", recall * 100)\n",
    "print(\"F1-score:\", f1 * 100)"
   ]
  },
  {
   "cell_type": "code",
   "execution_count": null,
   "id": "0ce407c9",
   "metadata": {},
   "outputs": [],
   "source": []
  }
 ],
 "metadata": {
  "kernelspec": {
   "display_name": "Python 3 (ipykernel)",
   "language": "python",
   "name": "python3"
  },
  "language_info": {
   "codemirror_mode": {
    "name": "ipython",
    "version": 3
   },
   "file_extension": ".py",
   "mimetype": "text/x-python",
   "name": "python",
   "nbconvert_exporter": "python",
   "pygments_lexer": "ipython3",
   "version": "3.9.16"
  }
 },
 "nbformat": 4,
 "nbformat_minor": 5
}
