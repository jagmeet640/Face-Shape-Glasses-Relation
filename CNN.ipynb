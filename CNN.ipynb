{
 "cells": [
  {
   "cell_type": "code",
   "execution_count": 6,
   "id": "f0537095",
   "metadata": {},
   "outputs": [],
   "source": [
    "import tensorflow as tf\n",
    "import pandas as pd\n",
    "import matplotlib.pyplot as plt\n",
    "from tensorflow import keras\n",
    "from keras.models import Sequential\n",
    "from keras.layers import Dense, Conv2D, Dropout\n",
    "import sklearn\n",
    "from sklearn.model_selection import train_test_split\n",
    "import os\n",
    "from os import listdir\n",
    "from zipfile import ZipFile\n",
    "import pickle\n",
    "import cv2\n",
    "import gdown\n",
    "from tensorflow.keras.utils import img_to_array\n",
    "import numpy as np"
   ]
  },
  {
   "cell_type": "code",
   "execution_count": 7,
   "id": "8025138d",
   "metadata": {},
   "outputs": [],
   "source": [
    "def convert_image_to_array(image_dir):\n",
    "    try:\n",
    "        image = cv2.imread(image_dir)\n",
    "        if image is not None:\n",
    "            img = cv2.resize(image, (32,32))\n",
    "            return img_to_array(img)\n",
    "        else:\n",
    "            return np.array([])\n",
    "    except Exception as e:\n",
    "        print(f\"Error : {e}\")\n",
    "        return None"
   ]
  },
  {
   "cell_type": "code",
   "execution_count": 18,
   "id": "b08abeb2",
   "metadata": {},
   "outputs": [],
   "source": [
    "def load_dataset(dir):\n",
    "    ImgList, label_list = [], []\n",
    "    try:\n",
    "            print(\"Load Dataset -->\")\n",
    "            root_dir = listdir(dir)\n",
    "            print(\"Root Directory : \", root_dir)\n",
    "            for shape in root_dir:\n",
    "                if shape == \".DS_Store\":\n",
    "                    root_dir.remove(dir)\n",
    "            \n",
    "            for shape in root_dir:\n",
    "                faceShape_image_list = listdir(f\"{dir}/{shape}\")\n",
    "                \n",
    "                for faceShape in faceShape_image_list:\n",
    "                    \n",
    "                    if faceShape == \".DS_Store\":\n",
    "                        faceShape_image_lsit.remove(faceShape)\n",
    "                        \n",
    "                for faceShape_image in faceShape_image_list[:7000]:\n",
    "                    \n",
    "                    img_dir = f\"{root_dir}/{shape}/{faceShape_image}\"\n",
    "                    \n",
    "                    if img_dir.endswith(\".jpg\") == True or img_dir.endswith(\".JPG\") == True or img_dir.endswith(\".png\") == True or img_dir.endswith(\".PNG\") == True:\n",
    "                        \n",
    "                        converted_image = convert_image_to_array(img_dir)\n",
    "                        ImgList.append(converted_image)\n",
    "                        label_list.append(shape)\n",
    "            print(\"Loading completed\")\n",
    "            return ImgList, label_list\n",
    "    except Exception as e:\n",
    "        print(f\"Error : {e}\")\n",
    "        "
   ]
  },
  {
   "cell_type": "code",
   "execution_count": 27,
   "id": "a891310e",
   "metadata": {
    "scrolled": true
   },
   "outputs": [
    {
     "name": "stdout",
     "output_type": "stream",
     "text": [
      "Load Dataset -->\n",
      "Root Directory :  ['heart', 'oblong', 'oval', 'round', 'square']\n",
      "Loading completed\n"
     ]
    }
   ],
   "source": [
    "images, labels = load_dataset(\"faceshape-master/published_dataset\")"
   ]
  },
  {
   "cell_type": "code",
   "execution_count": 24,
   "id": "ccbe4532",
   "metadata": {},
   "outputs": [
    {
     "name": "stdout",
     "output_type": "stream",
     "text": [
      "500\n"
     ]
    }
   ],
   "source": [
    "print(len(images))"
   ]
  },
  {
   "cell_type": "code",
   "execution_count": null,
   "id": "f975b8ab",
   "metadata": {},
   "outputs": [],
   "source": []
  }
 ],
 "metadata": {
  "kernelspec": {
   "display_name": "Python 3 (ipykernel)",
   "language": "python",
   "name": "python3"
  },
  "language_info": {
   "codemirror_mode": {
    "name": "ipython",
    "version": 3
   },
   "file_extension": ".py",
   "mimetype": "text/x-python",
   "name": "python",
   "nbconvert_exporter": "python",
   "pygments_lexer": "ipython3",
   "version": "3.9.16"
  }
 },
 "nbformat": 4,
 "nbformat_minor": 5
}
