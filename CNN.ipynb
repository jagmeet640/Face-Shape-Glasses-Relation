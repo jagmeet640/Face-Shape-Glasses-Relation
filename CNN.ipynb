{
 "cells": [
  {
   "cell_type": "code",
   "execution_count": 22,
   "id": "f0537095",
   "metadata": {},
   "outputs": [
    {
     "ename": "ModuleNotFoundError",
     "evalue": "No module named 'rembg'",
     "output_type": "error",
     "traceback": [
      "\u001b[1;31m---------------------------------------------------------------------------\u001b[0m",
      "\u001b[1;31mModuleNotFoundError\u001b[0m                       Traceback (most recent call last)",
      "Cell \u001b[1;32mIn[22], line 21\u001b[0m\n\u001b[0;32m     19\u001b[0m \u001b[38;5;28;01mimport\u001b[39;00m \u001b[38;5;21;01mnumpy\u001b[39;00m \u001b[38;5;28;01mas\u001b[39;00m \u001b[38;5;21;01mnp\u001b[39;00m\n\u001b[0;32m     20\u001b[0m \u001b[38;5;28;01mfrom\u001b[39;00m \u001b[38;5;21;01mPIL\u001b[39;00m \u001b[38;5;28;01mimport\u001b[39;00m Image\n\u001b[1;32m---> 21\u001b[0m \u001b[38;5;28;01mimport\u001b[39;00m \u001b[38;5;21;01mrembg\u001b[39;00m\n\u001b[0;32m     22\u001b[0m \u001b[38;5;28;01mfrom\u001b[39;00m \u001b[38;5;21;01mrembg\u001b[39;00m \u001b[38;5;28;01mimport\u001b[39;00m remove\n",
      "\u001b[1;31mModuleNotFoundError\u001b[0m: No module named 'rembg'"
     ]
    }
   ],
   "source": [
    "import tensorflow as tf\n",
    "import pandas as pd\n",
    "import matplotlib.pyplot as plt\n",
    "from tensorflow import keras\n",
    "from keras.models import Sequential\n",
    "from keras.layers import Dense, Conv2D, Dropout\n",
    "import sklearn\n",
    "from sklearn.model_selection import train_test_split\n",
    "import os\n",
    "from os import listdir\n",
    "from zipfile import ZipFile\n",
    "import pickle\n",
    "import cv2\n",
    "import gdown\n",
    "import tensorflow\n",
    "from keras.utils import img_to_array\n",
    "import sklearn \n",
    "from sklearn.preprocessing import LabelBinarizer\n",
    "import numpy as np\n",
    "from PIL import Image\n",
    "from rembg import remove\n"
   ]
  },
  {
   "cell_type": "code",
   "execution_count": 23,
   "id": "eed750a4",
   "metadata": {},
   "outputs": [
    {
     "name": "stdout",
     "output_type": "stream",
     "text": [
      "Collecting rembg\n",
      "  Using cached rembg-2.0.53-py3-none-any.whl.metadata (14 kB)\n",
      "Collecting jsonschema (from rembg)\n",
      "  Using cached jsonschema-4.21.1-py3-none-any.whl.metadata (7.8 kB)\n",
      "Requirement already satisfied: numpy in c:\\users\\jagme\\anaconda3\\envs\\ml-env\\lib\\site-packages (from rembg) (1.26.3)\n",
      "Collecting onnxruntime (from rembg)\n",
      "  Using cached onnxruntime-1.16.3-cp39-cp39-win_amd64.whl.metadata (4.5 kB)\n",
      "Collecting opencv-python-headless (from rembg)\n",
      "  Using cached opencv_python_headless-4.9.0.80-cp37-abi3-win_amd64.whl.metadata (20 kB)\n",
      "Requirement already satisfied: pillow in c:\\users\\jagme\\anaconda3\\envs\\ml-env\\lib\\site-packages (from rembg) (10.2.0)\n",
      "Collecting pooch (from rembg)\n",
      "  Using cached pooch-1.8.0-py3-none-any.whl.metadata (9.9 kB)\n",
      "Collecting pymatting (from rembg)\n",
      "  Using cached PyMatting-1.1.12-py3-none-any.whl.metadata (7.4 kB)\n",
      "Collecting scikit-image (from rembg)\n",
      "  Using cached scikit_image-0.22.0-cp39-cp39-win_amd64.whl.metadata (13 kB)\n",
      "Requirement already satisfied: scipy in c:\\users\\jagme\\anaconda3\\envs\\ml-env\\lib\\site-packages (from rembg) (1.11.4)\n",
      "Requirement already satisfied: tqdm in c:\\users\\jagme\\anaconda3\\envs\\ml-env\\lib\\site-packages (from rembg) (4.66.1)\n",
      "Requirement already satisfied: attrs>=22.2.0 in c:\\users\\jagme\\anaconda3\\envs\\ml-env\\lib\\site-packages (from jsonschema->rembg) (23.1.0)\n",
      "Collecting jsonschema-specifications>=2023.03.6 (from jsonschema->rembg)\n",
      "  Using cached jsonschema_specifications-2023.12.1-py3-none-any.whl.metadata (3.0 kB)\n",
      "Requirement already satisfied: referencing>=0.28.4 in c:\\users\\jagme\\anaconda3\\envs\\ml-env\\lib\\site-packages (from jsonschema->rembg) (0.32.1)\n",
      "Requirement already satisfied: rpds-py>=0.7.1 in c:\\users\\jagme\\anaconda3\\envs\\ml-env\\lib\\site-packages (from jsonschema->rembg) (0.17.1)\n",
      "Collecting coloredlogs (from onnxruntime->rembg)\n",
      "  Using cached coloredlogs-15.0.1-py2.py3-none-any.whl (46 kB)\n",
      "Requirement already satisfied: flatbuffers in c:\\users\\jagme\\anaconda3\\envs\\ml-env\\lib\\site-packages (from onnxruntime->rembg) (2.0)\n",
      "Requirement already satisfied: packaging in c:\\users\\jagme\\anaconda3\\envs\\ml-env\\lib\\site-packages (from onnxruntime->rembg) (23.1)\n",
      "Requirement already satisfied: protobuf in c:\\users\\jagme\\anaconda3\\envs\\ml-env\\lib\\site-packages (from onnxruntime->rembg) (3.20.3)\n",
      "Requirement already satisfied: sympy in c:\\users\\jagme\\anaconda3\\envs\\ml-env\\lib\\site-packages (from onnxruntime->rembg) (1.12)\n",
      "Requirement already satisfied: platformdirs>=2.5.0 in c:\\users\\jagme\\anaconda3\\envs\\ml-env\\lib\\site-packages (from pooch->rembg) (4.1.0)\n",
      "Requirement already satisfied: requests>=2.19.0 in c:\\users\\jagme\\anaconda3\\envs\\ml-env\\lib\\site-packages (from pooch->rembg) (2.31.0)\n",
      "Collecting numba!=0.49.0 (from pymatting->rembg)\n",
      "  Using cached numba-0.58.1-cp39-cp39-win_amd64.whl.metadata (2.8 kB)\n",
      "Collecting networkx>=2.8 (from scikit-image->rembg)\n",
      "  Using cached networkx-3.2.1-py3-none-any.whl.metadata (5.2 kB)\n",
      "Collecting imageio>=2.27 (from scikit-image->rembg)\n",
      "  Using cached imageio-2.33.1-py3-none-any.whl.metadata (4.9 kB)\n",
      "Requirement already satisfied: tifffile>=2022.8.12 in c:\\users\\jagme\\anaconda3\\envs\\ml-env\\lib\\site-packages (from scikit-image->rembg) (2023.12.9)\n",
      "Collecting lazy_loader>=0.3 (from scikit-image->rembg)\n",
      "  Using cached lazy_loader-0.3-py3-none-any.whl.metadata (4.3 kB)\n",
      "Requirement already satisfied: colorama in c:\\users\\jagme\\anaconda3\\envs\\ml-env\\lib\\site-packages (from tqdm->rembg) (0.4.6)\n",
      "Collecting llvmlite<0.42,>=0.41.0dev0 (from numba!=0.49.0->pymatting->rembg)\n",
      "  Using cached llvmlite-0.41.1-cp39-cp39-win_amd64.whl.metadata (4.9 kB)\n",
      "Requirement already satisfied: charset-normalizer<4,>=2 in c:\\users\\jagme\\anaconda3\\envs\\ml-env\\lib\\site-packages (from requests>=2.19.0->pooch->rembg) (2.0.4)\n",
      "Requirement already satisfied: idna<4,>=2.5 in c:\\users\\jagme\\anaconda3\\envs\\ml-env\\lib\\site-packages (from requests>=2.19.0->pooch->rembg) (3.4)\n",
      "Requirement already satisfied: urllib3<3,>=1.21.1 in c:\\users\\jagme\\anaconda3\\envs\\ml-env\\lib\\site-packages (from requests>=2.19.0->pooch->rembg) (1.26.18)\n",
      "Requirement already satisfied: certifi>=2017.4.17 in c:\\users\\jagme\\anaconda3\\envs\\ml-env\\lib\\site-packages (from requests>=2.19.0->pooch->rembg) (2023.11.17)\n",
      "Collecting humanfriendly>=9.1 (from coloredlogs->onnxruntime->rembg)\n",
      "  Using cached humanfriendly-10.0-py2.py3-none-any.whl (86 kB)\n",
      "Requirement already satisfied: mpmath>=0.19 in c:\\users\\jagme\\anaconda3\\envs\\ml-env\\lib\\site-packages (from sympy->onnxruntime->rembg) (1.3.0)\n",
      "Requirement already satisfied: pyreadline3 in c:\\users\\jagme\\anaconda3\\envs\\ml-env\\lib\\site-packages (from humanfriendly>=9.1->coloredlogs->onnxruntime->rembg) (3.4.1)\n",
      "Using cached rembg-2.0.53-py3-none-any.whl (32 kB)\n",
      "Using cached jsonschema-4.21.1-py3-none-any.whl (85 kB)\n",
      "Using cached onnxruntime-1.16.3-cp39-cp39-win_amd64.whl (7.3 MB)\n",
      "Using cached opencv_python_headless-4.9.0.80-cp37-abi3-win_amd64.whl (38.5 MB)\n",
      "Using cached pooch-1.8.0-py3-none-any.whl (62 kB)\n",
      "Using cached PyMatting-1.1.12-py3-none-any.whl (52 kB)\n",
      "Using cached scikit_image-0.22.0-cp39-cp39-win_amd64.whl (24.5 MB)\n",
      "Using cached imageio-2.33.1-py3-none-any.whl (313 kB)\n",
      "Using cached jsonschema_specifications-2023.12.1-py3-none-any.whl (18 kB)\n",
      "Using cached lazy_loader-0.3-py3-none-any.whl (9.1 kB)\n",
      "Using cached networkx-3.2.1-py3-none-any.whl (1.6 MB)\n",
      "Using cached numba-0.58.1-cp39-cp39-win_amd64.whl (2.6 MB)\n",
      "Using cached llvmlite-0.41.1-cp39-cp39-win_amd64.whl (28.1 MB)\n",
      "Installing collected packages: opencv-python-headless, networkx, llvmlite, lazy_loader, imageio, humanfriendly, scikit-image, pooch, numba, jsonschema-specifications, coloredlogs, pymatting, onnxruntime, jsonschema, rembg\n",
      "Note: you may need to restart the kernel to use updated packages.\n"
     ]
    },
    {
     "name": "stderr",
     "output_type": "stream",
     "text": [
      "ERROR: Could not install packages due to an OSError: [WinError 5] Access is denied: 'c:\\\\Users\\\\jagme\\\\anaconda3\\\\envs\\\\ML-ENV\\\\Lib\\\\site-packages\\\\cv2\\\\cv2.pyd'\n",
      "Consider using the `--user` option or check the permissions.\n",
      "\n"
     ]
    }
   ],
   "source": [
    "# %pip install pandas\n",
    "# %pip install matplotlib\n",
    "# %pip install scikit-learn\n",
    "# %pip install opencv-python\n",
    "# %pip install gdown\n",
    "# %pip install pillow\n",
    "# %pip install rembg\n"
   ]
  },
  {
   "cell_type": "code",
   "execution_count": 26,
   "id": "314fccb5",
   "metadata": {},
   "outputs": [
    {
     "data": {
      "text/plain": [
       "True"
      ]
     },
     "execution_count": 26,
     "metadata": {},
     "output_type": "execute_result"
    }
   ],
   "source": [
    "import cv2\n",
    "import numpy as np\n",
    "\n",
    "# Store path of the image in the variable input_path\n",
    "input_path = 'img_no_65.jpg'\n",
    "\n",
    "# Store path of the output image in the variable output_path\n",
    "output_path = 'output_no_65.jpg'\n",
    "\n",
    "# Read the input image using OpenCV\n",
    "input_image = cv2.imread(input_path)\n",
    "\n",
    "# Convert the image to grayscale\n",
    "gray = cv2.cvtColor(input_image, cv2.COLOR_BGR2GRAY)\n",
    "\n",
    "# # Apply a threshold to create a binary mask\n",
    "# _, mask = cv2.threshold(gray, 240, 255, cv2.THRESH_BINARY)\n",
    "\n",
    "# # Invert the mask (background becomes black, foreground becomes white)\n",
    "# mask_inv = cv2.bitwise_not(mask)\n",
    "\n",
    "# # Create a 3-channel white background image\n",
    "# white_background = np.full_like(input_image, (255, 255, 255), dtype=np.uint8)\n",
    "\n",
    "# # Use the mask to extract the foreground from the input image\n",
    "# foreground = cv2.bitwise_and(input_image, input_image, mask=mask_inv)\n",
    "\n",
    "# Combine the foreground with the white background\n",
    "# output_image = cv2.add(white_background, foreground)\n",
    "\n",
    "# Save the output image\n",
    "cv2.imwrite(output_path, gray)"
   ]
  },
  {
   "cell_type": "code",
   "execution_count": 6,
   "id": "8025138d",
   "metadata": {},
   "outputs": [],
   "source": [
    "def convert_image_to_array(image_dir):\n",
    "    try:\n",
    "        image = cv2.imread(image_dir)\n",
    "        if image is not None:\n",
    "            img = cv2.resize(image, (32,32))\n",
    "            return img_to_array(img)\n",
    "        else:\n",
    "            return np.array([])\n",
    "    except Exception as e:\n",
    "        print(f\"Error : {e}\")\n",
    "        return None"
   ]
  },
  {
   "cell_type": "code",
   "execution_count": 7,
   "id": "b08abeb2",
   "metadata": {},
   "outputs": [],
   "source": [
    "def load_dataset(dir):\n",
    "    ImgList, label_list = [], []\n",
    "    try:\n",
    "            print(\"Load Dataset -->\")\n",
    "            root_dir = listdir(dir)\n",
    "            print(\"Root Directory : \", root_dir)\n",
    "            for shape in root_dir:\n",
    "                if shape == \".DS_Store\":\n",
    "                    root_dir.remove(dir)\n",
    "            \n",
    "            for shape in root_dir:\n",
    "                faceShape_image_list = listdir(f\"{dir}/{shape}\")\n",
    "                \n",
    "                for faceShape in faceShape_image_list:\n",
    "                    \n",
    "                    if faceShape == \".DS_Store\":\n",
    "                        faceShape_image_lsit.remove(faceShape)\n",
    "                        \n",
    "                for faceShape_image in faceShape_image_list[:7000]:\n",
    "                    \n",
    "                    img_dir = f\"{dir}/{shape}/{faceShape_image}\"\n",
    "                    \n",
    "                    if img_dir.endswith(\".jpg\") == True or img_dir.endswith(\".JPG\") == True or img_dir.endswith(\".png\") == True or img_dir.endswith(\".PNG\") == True:\n",
    "                        \n",
    "                        converted_image = convert_image_to_array(img_dir)\n",
    "                        ImgList.append(converted_image)\n",
    "                        label_list.append(shape)\n",
    "            print(\"Loading completed\")\n",
    "            return ImgList, label_list\n",
    "    except Exception as e:\n",
    "        print(f\"Error : {e}\")\n",
    "        "
   ]
  },
  {
   "cell_type": "code",
   "execution_count": 8,
   "id": "a891310e",
   "metadata": {
    "scrolled": true
   },
   "outputs": [
    {
     "name": "stdout",
     "output_type": "stream",
     "text": [
      "Load Dataset -->\n",
      "Root Directory :  ['heart', 'oblong', 'oval', 'round', 'square']\n"
     ]
    },
    {
     "name": "stdout",
     "output_type": "stream",
     "text": [
      "Loading completed\n"
     ]
    }
   ],
   "source": [
    "images, labels = load_dataset(\"faceshape-master/published_dataset\")"
   ]
  },
  {
   "cell_type": "code",
<<<<<<< Updated upstream
   "execution_count": 6,
=======
   "execution_count": 9,
>>>>>>> Stashed changes
   "id": "ccbe4532",
   "metadata": {},
   "outputs": [
    {
     "name": "stdout",
     "output_type": "stream",
     "text": [
      "500\n",
      "(32, 32, 3)\n"
     ]
    }
   ],
   "source": [
    "print(len(images))\n",
    "print(images[0].shape)"
   ]
  },
  {
   "cell_type": "code",
<<<<<<< Updated upstream
   "execution_count": 7,
=======
   "execution_count": 10,
>>>>>>> Stashed changes
   "id": "f975b8ab",
   "metadata": {},
   "outputs": [
    {
     "name": "stdout",
     "output_type": "stream",
     "text": [
      "5\n",
      "[[1 0 0 0 0]\n",
      " [1 0 0 0 0]\n",
      " [1 0 0 0 0]\n",
      " ...\n",
      " [0 0 0 0 1]\n",
      " [0 0 0 0 1]\n",
      " [0 0 0 0 1]]\n"
     ]
    }
   ],
   "source": [
    "label_gen = LabelBinarizer()\n",
    "image_labels = label_gen.fit_transform(labels)\n",
    "pickle.dump(label_gen,open('label_transform.pkl', 'wb'))\n",
    "n_classes = len(label_gen.classes_)\n",
    "print(n_classes)\n",
    "print(image_labels)"
   ]
  },
  {
   "cell_type": "code",
<<<<<<< Updated upstream
   "execution_count": 8,
=======
   "execution_count": 11,
>>>>>>> Stashed changes
   "id": "8cc9bb10",
   "metadata": {},
   "outputs": [],
   "source": [
    "normalised_images = np.array(images, dtype=np.float16) /255.0"
   ]
  },
  {
   "cell_type": "code",
<<<<<<< Updated upstream
   "execution_count": 9,
=======
   "execution_count": 12,
>>>>>>> Stashed changes
   "id": "bec95c16",
   "metadata": {},
   "outputs": [
    {
     "name": "stdout",
     "output_type": "stream",
     "text": [
      "making the training and testing split with 30% of the dataset as testing set\n",
      "(350, 32, 32, 3)\n"
     ]
    }
   ],
   "source": [
    "from sklearn.model_selection import train_test_split\n",
    "print(\"making the training and testing split with 30% of the dataset as testing set\")\n",
    "# GAN_x_train, GAN_x_test, GAN_y_train, GAN_y_test = train_test_split(normalized_image_list_GAN, image_labels_GAN, test_size=0.3, shuffle=True,random_state = 42)\n",
    "\n",
    "orignal_x_train, orignal_x_test, orignal_y_train, orignal_y_test = train_test_split(normalised_images, image_labels, test_size=0.3, shuffle=True,random_state = 42)\n",
    "print(orignal_x_train.shape)"
   ]
  },
  {
   "cell_type": "code",
   "execution_count": 13,
   "id": "72cf6e1e",
   "metadata": {},
   "outputs": [
    {
<<<<<<< Updated upstream
     "ename": "ValueError",
     "evalue": "Exception encountered when calling layer \"conv2d_9\" (type Conv2D).\n\nNegative dimension size caused by subtracting 3 from 2 for '{{node conv2d_9/Conv2D}} = Conv2D[T=DT_FLOAT, data_format=\"NHWC\", dilations=[1, 1, 1, 1], explicit_paddings=[], padding=\"VALID\", strides=[1, 1, 1, 1], use_cudnn_on_gpu=true](Placeholder, conv2d_9/Conv2D/ReadVariableOp)' with input shapes: [?,2,2,32], [3,3,32,16].\n\nCall arguments received by layer \"conv2d_9\" (type Conv2D):\n  • inputs=tf.Tensor(shape=(None, 2, 2, 32), dtype=float32)",
     "output_type": "error",
     "traceback": [
      "\u001b[1;31m---------------------------------------------------------------------------\u001b[0m",
      "\u001b[1;31mValueError\u001b[0m                                Traceback (most recent call last)",
      "Cell \u001b[1;32mIn[14], line 28\u001b[0m\n\u001b[0;32m     25\u001b[0m model\u001b[38;5;241m.\u001b[39madd(MaxPooling2D(pool_size\u001b[38;5;241m=\u001b[39m(\u001b[38;5;241m2\u001b[39m, \u001b[38;5;241m2\u001b[39m)))\n\u001b[0;32m     27\u001b[0m \u001b[38;5;66;03m# Add the second convolutional layer\u001b[39;00m\n\u001b[1;32m---> 28\u001b[0m \u001b[43mmodel\u001b[49m\u001b[38;5;241;43m.\u001b[39;49m\u001b[43madd\u001b[49m\u001b[43m(\u001b[49m\u001b[43mConv2D\u001b[49m\u001b[43m(\u001b[49m\u001b[38;5;241;43m16\u001b[39;49m\u001b[43m,\u001b[49m\u001b[43m \u001b[49m\u001b[43mkernel_size\u001b[49m\u001b[38;5;241;43m=\u001b[39;49m\u001b[43m(\u001b[49m\u001b[38;5;241;43m3\u001b[39;49m\u001b[43m,\u001b[49m\u001b[43m \u001b[49m\u001b[38;5;241;43m3\u001b[39;49m\u001b[43m)\u001b[49m\u001b[43m,\u001b[49m\u001b[43m \u001b[49m\u001b[43mactivation\u001b[49m\u001b[38;5;241;43m=\u001b[39;49m\u001b[38;5;124;43m'\u001b[39;49m\u001b[38;5;124;43mrelu\u001b[39;49m\u001b[38;5;124;43m'\u001b[39;49m\u001b[43m)\u001b[49m\u001b[43m)\u001b[49m\n\u001b[0;32m     30\u001b[0m \u001b[38;5;66;03m# Add the max pooling layer\u001b[39;00m\n\u001b[0;32m     31\u001b[0m model\u001b[38;5;241m.\u001b[39madd(MaxPooling2D(pool_size\u001b[38;5;241m=\u001b[39m(\u001b[38;5;241m2\u001b[39m, \u001b[38;5;241m2\u001b[39m)))\n",
      "File \u001b[1;32mc:\\Users\\jagme\\anaconda3\\envs\\new_env\\lib\\site-packages\\tensorflow\\python\\trackable\\base.py:204\u001b[0m, in \u001b[0;36mno_automatic_dependency_tracking.<locals>._method_wrapper\u001b[1;34m(self, *args, **kwargs)\u001b[0m\n\u001b[0;32m    202\u001b[0m \u001b[38;5;28mself\u001b[39m\u001b[38;5;241m.\u001b[39m_self_setattr_tracking \u001b[38;5;241m=\u001b[39m \u001b[38;5;28;01mFalse\u001b[39;00m  \u001b[38;5;66;03m# pylint: disable=protected-access\u001b[39;00m\n\u001b[0;32m    203\u001b[0m \u001b[38;5;28;01mtry\u001b[39;00m:\n\u001b[1;32m--> 204\u001b[0m   result \u001b[38;5;241m=\u001b[39m method(\u001b[38;5;28mself\u001b[39m, \u001b[38;5;241m*\u001b[39margs, \u001b[38;5;241m*\u001b[39m\u001b[38;5;241m*\u001b[39mkwargs)\n\u001b[0;32m    205\u001b[0m \u001b[38;5;28;01mfinally\u001b[39;00m:\n\u001b[0;32m    206\u001b[0m   \u001b[38;5;28mself\u001b[39m\u001b[38;5;241m.\u001b[39m_self_setattr_tracking \u001b[38;5;241m=\u001b[39m previous_value  \u001b[38;5;66;03m# pylint: disable=protected-access\u001b[39;00m\n",
      "File \u001b[1;32mc:\\Users\\jagme\\anaconda3\\envs\\new_env\\lib\\site-packages\\keras\\src\\utils\\traceback_utils.py:70\u001b[0m, in \u001b[0;36mfilter_traceback.<locals>.error_handler\u001b[1;34m(*args, **kwargs)\u001b[0m\n\u001b[0;32m     67\u001b[0m     filtered_tb \u001b[38;5;241m=\u001b[39m _process_traceback_frames(e\u001b[38;5;241m.\u001b[39m__traceback__)\n\u001b[0;32m     68\u001b[0m     \u001b[38;5;66;03m# To get the full stack trace, call:\u001b[39;00m\n\u001b[0;32m     69\u001b[0m     \u001b[38;5;66;03m# `tf.debugging.disable_traceback_filtering()`\u001b[39;00m\n\u001b[1;32m---> 70\u001b[0m     \u001b[38;5;28;01mraise\u001b[39;00m e\u001b[38;5;241m.\u001b[39mwith_traceback(filtered_tb) \u001b[38;5;28;01mfrom\u001b[39;00m \u001b[38;5;28mNone\u001b[39m\n\u001b[0;32m     71\u001b[0m \u001b[38;5;28;01mfinally\u001b[39;00m:\n\u001b[0;32m     72\u001b[0m     \u001b[38;5;28;01mdel\u001b[39;00m filtered_tb\n",
      "File \u001b[1;32mc:\\Users\\jagme\\anaconda3\\envs\\new_env\\lib\\site-packages\\tensorflow\\python\\framework\\ops.py:1021\u001b[0m, in \u001b[0;36m_create_c_op\u001b[1;34m(graph, node_def, inputs, control_inputs, op_def, extract_traceback)\u001b[0m\n\u001b[0;32m   1018\u001b[0m   c_op \u001b[38;5;241m=\u001b[39m pywrap_tf_session\u001b[38;5;241m.\u001b[39mTF_FinishOperation(op_desc)\n\u001b[0;32m   1019\u001b[0m \u001b[38;5;28;01mexcept\u001b[39;00m errors\u001b[38;5;241m.\u001b[39mInvalidArgumentError \u001b[38;5;28;01mas\u001b[39;00m e:\n\u001b[0;32m   1020\u001b[0m   \u001b[38;5;66;03m# Convert to ValueError for backwards compatibility.\u001b[39;00m\n\u001b[1;32m-> 1021\u001b[0m   \u001b[38;5;28;01mraise\u001b[39;00m \u001b[38;5;167;01mValueError\u001b[39;00m(e\u001b[38;5;241m.\u001b[39mmessage)\n\u001b[0;32m   1023\u001b[0m \u001b[38;5;66;03m# Record the current Python stack trace as the creating stacktrace of this\u001b[39;00m\n\u001b[0;32m   1024\u001b[0m \u001b[38;5;66;03m# TF_Operation.\u001b[39;00m\n\u001b[0;32m   1025\u001b[0m \u001b[38;5;28;01mif\u001b[39;00m extract_traceback:\n",
      "\u001b[1;31mValueError\u001b[0m: Exception encountered when calling layer \"conv2d_9\" (type Conv2D).\n\nNegative dimension size caused by subtracting 3 from 2 for '{{node conv2d_9/Conv2D}} = Conv2D[T=DT_FLOAT, data_format=\"NHWC\", dilations=[1, 1, 1, 1], explicit_paddings=[], padding=\"VALID\", strides=[1, 1, 1, 1], use_cudnn_on_gpu=true](Placeholder, conv2d_9/Conv2D/ReadVariableOp)' with input shapes: [?,2,2,32], [3,3,32,16].\n\nCall arguments received by layer \"conv2d_9\" (type Conv2D):\n  • inputs=tf.Tensor(shape=(None, 2, 2, 32), dtype=float32)"
=======
     "name": "stdout",
     "output_type": "stream",
     "text": [
      "Model: \"sequential\"\n",
      "_________________________________________________________________\n",
      " Layer (type)                Output Shape              Param #   \n",
      "=================================================================\n",
      " conv2d (Conv2D)             (None, 30, 30, 32)        896       \n",
      "                                                                 \n",
      " max_pooling2d (MaxPooling2D  (None, 15, 15, 32)       0         \n",
      " )                                                               \n",
      "                                                                 \n",
      " conv2d_1 (Conv2D)           (None, 13, 13, 64)        18496     \n",
      "                                                                 \n",
      " max_pooling2d_1 (MaxPooling  (None, 6, 6, 64)         0         \n",
      " 2D)                                                             \n",
      "                                                                 \n",
      " flatten (Flatten)           (None, 2304)              0         \n",
      "                                                                 \n",
      " dense (Dense)               (None, 128)               295040    \n",
      "                                                                 \n",
      " dense_1 (Dense)             (None, 5)                 645       \n",
      "                                                                 \n",
      "=================================================================\n",
      "Total params: 315,077\n",
      "Trainable params: 315,077\n",
      "Non-trainable params: 0\n",
      "_________________________________________________________________\n"
>>>>>>> Stashed changes
     ]
    }
   ],
   "source": [
    "import tensorflow\n",
    "from keras.layers import Conv2D, Dense, MaxPooling2D, Flatten\n",
    "# Define the input shape of the images\n",
    "input_shape = (32, 32, 3)\n",
    "\n",
    "# Initialize the model\n",
    "model = Sequential()\n",
    "\n",
    "# Add the first convolutional layer\n",
    "model.add(Conv2D(32, kernel_size=(3, 3), activation='relu', input_shape=input_shape))\n",
    "\n",
    "# Add the max pooling layer\n",
    "model.add(MaxPooling2D(pool_size=(2, 2)))\n",
    "\n",
    "# Add the second convolutional layer\n",
    "model.add(Conv2D(64, kernel_size=(3, 3), activation='relu'))\n",
    "\n",
    "# Add the max pooling layer\n",
    "model.add(MaxPooling2D(pool_size=(2, 2)))\n",
    "\n",
    "# Add the flatten layer\n",
    "model.add(Flatten())\n",
    "\n",
    "# Add the dense layer\n",
    "model.add(Dense(128, activation='relu'))\n",
    "\n",
    "# Add the output layer\n",
    "model.add(Dense(5, activation='sigmoid'))\n",
    "\n",
    "# Compile the model\n",
    "model.compile(loss='binary_crossentropy', optimizer='adam', metrics=['accuracy'])\n",
    "\n",
    "# Print the summary of the model architecture\n",
    "model.summary()\n",
    "\n",
    "\n",
    "\n"
   ]
  },
  {
   "cell_type": "code",
   "execution_count": 14,
   "id": "fa142abd",
   "metadata": {},
   "outputs": [
    {
<<<<<<< Updated upstream
     "ename": "RuntimeError",
     "evalue": "You must compile your model before training/testing. Use `model.compile(optimizer, loss)`.",
     "output_type": "error",
     "traceback": [
      "\u001b[1;31m---------------------------------------------------------------------------\u001b[0m",
      "\u001b[1;31mRuntimeError\u001b[0m                              Traceback (most recent call last)",
      "Cell \u001b[1;32mIn[15], line 2\u001b[0m\n\u001b[0;32m      1\u001b[0m \u001b[38;5;66;03m# Train the model\u001b[39;00m\n\u001b[1;32m----> 2\u001b[0m \u001b[43mmodel\u001b[49m\u001b[38;5;241;43m.\u001b[39;49m\u001b[43mfit\u001b[49m\u001b[43m(\u001b[49m\u001b[43morignal_x_train\u001b[49m\u001b[43m,\u001b[49m\u001b[43m \u001b[49m\u001b[43morignal_y_train\u001b[49m\u001b[43m,\u001b[49m\u001b[43m \u001b[49m\u001b[43mepochs\u001b[49m\u001b[38;5;241;43m=\u001b[39;49m\u001b[38;5;241;43m25\u001b[39;49m\u001b[43m,\u001b[49m\u001b[43m \u001b[49m\u001b[43mbatch_size\u001b[49m\u001b[38;5;241;43m=\u001b[39;49m\u001b[38;5;241;43m16\u001b[39;49m\u001b[43m)\u001b[49m\n",
      "File \u001b[1;32mc:\\Users\\jagme\\anaconda3\\envs\\new_env\\lib\\site-packages\\keras\\src\\utils\\traceback_utils.py:70\u001b[0m, in \u001b[0;36mfilter_traceback.<locals>.error_handler\u001b[1;34m(*args, **kwargs)\u001b[0m\n\u001b[0;32m     67\u001b[0m     filtered_tb \u001b[38;5;241m=\u001b[39m _process_traceback_frames(e\u001b[38;5;241m.\u001b[39m__traceback__)\n\u001b[0;32m     68\u001b[0m     \u001b[38;5;66;03m# To get the full stack trace, call:\u001b[39;00m\n\u001b[0;32m     69\u001b[0m     \u001b[38;5;66;03m# `tf.debugging.disable_traceback_filtering()`\u001b[39;00m\n\u001b[1;32m---> 70\u001b[0m     \u001b[38;5;28;01mraise\u001b[39;00m e\u001b[38;5;241m.\u001b[39mwith_traceback(filtered_tb) \u001b[38;5;28;01mfrom\u001b[39;00m \u001b[38;5;28mNone\u001b[39m\n\u001b[0;32m     71\u001b[0m \u001b[38;5;28;01mfinally\u001b[39;00m:\n\u001b[0;32m     72\u001b[0m     \u001b[38;5;28;01mdel\u001b[39;00m filtered_tb\n",
      "File \u001b[1;32mc:\\Users\\jagme\\anaconda3\\envs\\new_env\\lib\\site-packages\\keras\\src\\engine\\training.py:3954\u001b[0m, in \u001b[0;36mModel._assert_compile_was_called\u001b[1;34m(self)\u001b[0m\n\u001b[0;32m   3948\u001b[0m \u001b[38;5;28;01mdef\u001b[39;00m \u001b[38;5;21m_assert_compile_was_called\u001b[39m(\u001b[38;5;28mself\u001b[39m):\n\u001b[0;32m   3949\u001b[0m     \u001b[38;5;66;03m# Checks whether `compile` has been called. If it has been called,\u001b[39;00m\n\u001b[0;32m   3950\u001b[0m     \u001b[38;5;66;03m# then the optimizer is set. This is different from whether the\u001b[39;00m\n\u001b[0;32m   3951\u001b[0m     \u001b[38;5;66;03m# model is compiled\u001b[39;00m\n\u001b[0;32m   3952\u001b[0m     \u001b[38;5;66;03m# (i.e. whether the model is built and its inputs/outputs are set).\u001b[39;00m\n\u001b[0;32m   3953\u001b[0m     \u001b[38;5;28;01mif\u001b[39;00m \u001b[38;5;129;01mnot\u001b[39;00m \u001b[38;5;28mself\u001b[39m\u001b[38;5;241m.\u001b[39m_is_compiled:\n\u001b[1;32m-> 3954\u001b[0m         \u001b[38;5;28;01mraise\u001b[39;00m \u001b[38;5;167;01mRuntimeError\u001b[39;00m(\n\u001b[0;32m   3955\u001b[0m             \u001b[38;5;124m\"\u001b[39m\u001b[38;5;124mYou must compile your model before \u001b[39m\u001b[38;5;124m\"\u001b[39m\n\u001b[0;32m   3956\u001b[0m             \u001b[38;5;124m\"\u001b[39m\u001b[38;5;124mtraining/testing. \u001b[39m\u001b[38;5;124m\"\u001b[39m\n\u001b[0;32m   3957\u001b[0m             \u001b[38;5;124m\"\u001b[39m\u001b[38;5;124mUse `model.compile(optimizer, loss)`.\u001b[39m\u001b[38;5;124m\"\u001b[39m\n\u001b[0;32m   3958\u001b[0m         )\n",
      "\u001b[1;31mRuntimeError\u001b[0m: You must compile your model before training/testing. Use `model.compile(optimizer, loss)`."
     ]
=======
     "name": "stdout",
     "output_type": "stream",
     "text": [
      "Epoch 1/25\n",
      "22/22 [==============================] - 4s 80ms/step - loss: 0.5258 - accuracy: 0.1829\n",
      "Epoch 2/25\n",
      "22/22 [==============================] - 2s 82ms/step - loss: 0.5011 - accuracy: 0.2229\n",
      "Epoch 3/25\n",
      "22/22 [==============================] - 2s 87ms/step - loss: 0.4839 - accuracy: 0.3171\n",
      "Epoch 4/25\n",
      "22/22 [==============================] - 2s 82ms/step - loss: 0.4630 - accuracy: 0.3714\n",
      "Epoch 5/25\n",
      "22/22 [==============================] - 2s 80ms/step - loss: 0.4480 - accuracy: 0.4143\n",
      "Epoch 6/25\n",
      "22/22 [==============================] - 2s 80ms/step - loss: 0.4373 - accuracy: 0.4314\n",
      "Epoch 7/25\n",
      "22/22 [==============================] - 2s 81ms/step - loss: 0.4053 - accuracy: 0.4886\n",
      "Epoch 8/25\n",
      "22/22 [==============================] - 2s 82ms/step - loss: 0.3839 - accuracy: 0.5200\n",
      "Epoch 9/25\n",
      "22/22 [==============================] - 2s 79ms/step - loss: 0.3737 - accuracy: 0.5743\n",
      "Epoch 10/25\n",
      "22/22 [==============================] - 2s 79ms/step - loss: 0.3462 - accuracy: 0.6114\n",
      "Epoch 11/25\n",
      "22/22 [==============================] - 2s 80ms/step - loss: 0.3205 - accuracy: 0.6629\n",
      "Epoch 12/25\n",
      "22/22 [==============================] - 2s 94ms/step - loss: 0.2892 - accuracy: 0.7229\n",
      "Epoch 13/25\n",
      "22/22 [==============================] - 2s 97ms/step - loss: 0.2649 - accuracy: 0.7800\n",
      "Epoch 14/25\n",
      "22/22 [==============================] - 2s 91ms/step - loss: 0.2350 - accuracy: 0.7971\n",
      "Epoch 15/25\n",
      "22/22 [==============================] - 2s 83ms/step - loss: 0.1993 - accuracy: 0.8600\n",
      "Epoch 16/25\n",
      "22/22 [==============================] - 2s 90ms/step - loss: 0.1693 - accuracy: 0.9000\n",
      "Epoch 17/25\n",
      "22/22 [==============================] - 2s 84ms/step - loss: 0.1326 - accuracy: 0.9286\n",
      "Epoch 18/25\n",
      "22/22 [==============================] - 2s 99ms/step - loss: 0.1064 - accuracy: 0.9543\n",
      "Epoch 19/25\n",
      "22/22 [==============================] - 2s 90ms/step - loss: 0.0956 - accuracy: 0.9714\n",
      "Epoch 20/25\n",
      "22/22 [==============================] - 2s 99ms/step - loss: 0.0823 - accuracy: 0.9771\n",
      "Epoch 21/25\n",
      "22/22 [==============================] - 2s 94ms/step - loss: 0.0638 - accuracy: 0.9829\n",
      "Epoch 22/25\n",
      "22/22 [==============================] - 2s 77ms/step - loss: 0.0488 - accuracy: 0.9943\n",
      "Epoch 23/25\n",
      "22/22 [==============================] - 2s 92ms/step - loss: 0.0342 - accuracy: 1.0000\n",
      "Epoch 24/25\n",
      "22/22 [==============================] - 2s 96ms/step - loss: 0.0222 - accuracy: 1.0000\n",
      "Epoch 25/25\n",
      "22/22 [==============================] - 2s 98ms/step - loss: 0.0164 - accuracy: 1.0000\n"
     ]
    },
    {
     "data": {
      "text/plain": [
       "<keras.callbacks.History at 0x1d4b74d77c0>"
      ]
     },
     "execution_count": 14,
     "metadata": {},
     "output_type": "execute_result"
>>>>>>> Stashed changes
    }
   ],
   "source": [
    "# Train the model\n",
    "model.fit(orignal_x_train, orignal_y_train, epochs=25, batch_size=16)\n"
   ]
  },
  {
   "cell_type": "code",
<<<<<<< Updated upstream
   "execution_count": 12,
=======
   "execution_count": 15,
>>>>>>> Stashed changes
   "id": "9240179d",
   "metadata": {},
   "outputs": [
    {
     "name": "stdout",
     "output_type": "stream",
     "text": [
<<<<<<< Updated upstream
      "5/5 [==============================] - 0s 9ms/step\n",
      "Accuracy: 22.0\n",
      "Precision: 39.658797729618165\n",
      "Recall: 26.682490020498438\n",
      "F1-score: 30.973950026581605\n"
=======
      "5/5 [==============================] - 0s 19ms/step\n",
      "Accuracy: 25.333333333333336\n",
      "Precision: 35.983862843382965\n",
      "Recall: 28.673715251555365\n",
      "F1-score: 30.08161323378714\n"
>>>>>>> Stashed changes
     ]
    }
   ],
   "source": [
    "from sklearn.metrics import mean_squared_error\n",
    "from sklearn.metrics import accuracy_score, precision_score, recall_score, f1_score\n",
    "from sklearn.metrics import confusion_matrix\n",
    "\n",
    "y_pred = model.predict(orignal_x_test)\n",
    "\n",
    "y_pred_binary = np.where(y_pred > 0.5, 1, 0)\n",
    "# y_pred_classes = np.argmax(y_pred, axis=1)\n",
    "\n",
    "# Calculate the true labels for the test set\n",
    "y_true = orignal_y_test\n",
    "\n",
    "accuracy = accuracy_score(orignal_y_test, y_pred_binary)\n",
    "precision = precision_score(orignal_y_test, y_pred_binary, average='macro')\n",
    "recall = recall_score(orignal_y_test, y_pred_binary, average='macro')\n",
    "f1 = f1_score(orignal_y_test, y_pred_binary, average='macro')\n",
    "# conf_matrix = confusion_matrix(y_test, y_pred_binary)\n",
    "\n",
    "\n",
    "print(\"Accuracy:\", accuracy * 100)\n",
    "print(\"Precision:\", precision * 100)\n",
    "print(\"Recall:\", recall * 100)\n",
    "print(\"F1-score:\", f1 * 100)"
   ]
  },
  {
   "cell_type": "code",
   "execution_count": null,
   "id": "0ce407c9",
   "metadata": {},
   "outputs": [],
   "source": []
  }
 ],
 "metadata": {
  "kernelspec": {
   "display_name": "Python 3 (ipykernel)",
   "language": "python",
   "name": "python3"
  },
  "language_info": {
   "codemirror_mode": {
    "name": "ipython",
    "version": 3
   },
   "file_extension": ".py",
   "mimetype": "text/x-python",
   "name": "python",
   "nbconvert_exporter": "python",
   "pygments_lexer": "ipython3",
   "version": "3.9.18"
  }
 },
 "nbformat": 4,
 "nbformat_minor": 5
}
